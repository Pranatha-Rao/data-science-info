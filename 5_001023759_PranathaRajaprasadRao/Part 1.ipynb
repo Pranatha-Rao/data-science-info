{
 "cells": [
  {
   "cell_type": "markdown",
   "metadata": {},
   "source": [
    "# Problem statement 1\n",
    "I have a drug group and a placebo group. I want some quantitative confirmation to see if they produce the same or different outcomes: drug-A and placebo-A."
   ]
  },
  {
   "cell_type": "markdown",
   "metadata": {},
   "source": [
    "#### Formulation of hypothesis\n",
    "\n",
    "Null hypothesis (H0): The drug group A and Placebo A produce same outcome.\n",
    "\n",
    "Alternative Hypothesis(H1): The drug group A and Placebo A produce different outcome.\n",
    "\n",
    "This is a two-tailed test."
   ]
  },
  {
   "cell_type": "code",
   "execution_count": 46,
   "metadata": {},
   "outputs": [
    {
     "name": "stderr",
     "output_type": "stream",
     "text": [
      "C:\\Users\\prana\\Anaconda3\\lib\\site-packages\\ipykernel_launcher.py:9: FutureWarning: Sorting because non-concatenation axis is not aligned. A future version\n",
      "of pandas will change to not sort by default.\n",
      "\n",
      "To accept the future behavior, pass 'sort=False'.\n",
      "\n",
      "To retain the current behavior and silence the warning, pass 'sort=True'.\n",
      "\n",
      "  if __name__ == '__main__':\n"
     ]
    },
    {
     "data": {
      "text/plain": [
       "array([[<matplotlib.axes._subplots.AxesSubplot object at 0x000001731ADBD248>,\n",
       "        <matplotlib.axes._subplots.AxesSubplot object at 0x000001731BE97A88>]],\n",
       "      dtype=object)"
      ]
     },
     "execution_count": 46,
     "metadata": {},
     "output_type": "execute_result"
    },
    {
     "data": {
      "image/png": "[encoded data removed]",
      "text/plain": [
       "<Figure size 432x288 with 2 Axes>"
      ]
     },
     "metadata": {
      "needs_background": "light"
     },
     "output_type": "display_data"
    }
   ],
   "source": [
    "import pandas as pd\n",
    "import numpy as np\n",
    "\n",
    "#reading data from the csv files\n",
    "drugA = pd.read_csv(\"data2/drug-A.csv\")\n",
    "placeboA = pd.read_csv(\"data2/placebo-A.csv\")\n",
    "\n",
    "#Plotting histogram for drug and placebo\n",
    "trial_data = pd.concat([drugA, placeboA], ignore_index=True)\n",
    "trial_data.hist()"
   ]
  },
  {
   "cell_type": "markdown",
   "metadata": {},
   "source": [
    "## T-test \n",
    "\n",
    "Level of significance taken is 0.05 or 5%"
   ]
  },
  {
   "cell_type": "code",
   "execution_count": 35,
   "metadata": {},
   "outputs": [
    {
     "data": {
      "text/plain": [
       "<matplotlib.collections.PolyCollection at 0x1731acacbc8>"
      ]
     },
     "execution_count": 35,
     "metadata": {},
     "output_type": "execute_result"
    },
    {
     "data": {
      "image/png": "[encoded data removed]",
      "text/plain": [
       "<Figure size 432x288 with 1 Axes>"
      ]
     },
     "metadata": {
      "needs_background": "light"
     },
     "output_type": "display_data"
    }
   ],
   "source": [
    "import numpy as np\n",
    "import matplotlib.pyplot as plt\n",
    "from scipy.stats import t\n",
    "\n",
    "n = 100\n",
    "df = n-1\n",
    "x = np.linspace(t.ppf(0.001, df), t.ppf(0.999, df), n)\n",
    "p = t.pdf(x, df)\n",
    "\n",
    "plt.plot(x, p, 'k')\n",
    "plt.fill_between(x, 0, p, interpolate=True,\n",
    "                 where=((x <= t.ppf(0.05, df)) | (x >= t.ppf(0.95, df))))"
   ]
  },
  {
   "cell_type": "code",
   "execution_count": 67,
   "metadata": {},
   "outputs": [
    {
     "name": "stdout",
     "output_type": "stream",
     "text": [
      "t-statistic =  [-2.09157245]\n",
      "p-value =  [0.03803676]\n"
     ]
    }
   ],
   "source": [
    "from scipy.stats import ttest_ind #Library for t test\n",
    "t_statistic, p_value = ttest_ind(drugA, placeboA) #calculating t test and p-value\n",
    "print (\"t-statistic = \", t_statistic)\n",
    "print (\"p-value = \", p_value)"
   ]
  },
  {
   "cell_type": "markdown",
   "metadata": {},
   "source": [
    "## Test for normality"
   ]
  },
  {
   "cell_type": "markdown",
   "metadata": {},
   "source": [
    "Using  D’Agostino & Pearson combined test to test for normality of the data"
   ]
  },
  {
   "cell_type": "markdown",
   "metadata": {},
   "source": [
    "Formulation of the hypothesis:\n",
    "\n",
    "\n",
    "* $H_0$ : 'Underlying distribution is normal.'\n",
    "* $H_1$ : 'Underlying distribution is not normal.'"
   ]
  },
  {
   "cell_type": "code",
   "execution_count": 69,
   "metadata": {},
   "outputs": [
    {
     "name": "stdout",
     "output_type": "stream",
     "text": [
      "('drug',)\n"
     ]
    }
   ],
   "source": [
    "# Read in the records.\n",
    "record = np.recfromcsv(\"data2/drug-A.csv\") \n",
    "\n",
    "print (record.dtype.names)"
   ]
  },
  {
   "cell_type": "code",
   "execution_count": 70,
   "metadata": {},
   "outputs": [
    {
     "name": "stdout",
     "output_type": "stream",
     "text": [
      "Skew =  1.287411721043734\n",
      "H0 - field marks come from a normal distribution: \n",
      "Accept.\n"
     ]
    },
    {
     "data": {
      "text/plain": [
       "<matplotlib.legend.Legend at 0x1731d524748>"
      ]
     },
     "execution_count": 70,
     "metadata": {},
     "output_type": "execute_result"
    },
    {
     "data": {
      "image/png": "[encoded data removed]",
      "text/plain": [
       "<Figure size 432x288 with 1 Axes>"
      ]
     },
     "metadata": {
      "needs_background": "light"
     },
     "output_type": "display_data"
    }
   ],
   "source": [
    "drug = np.array(record[\"drug\"], dtype=float)\n",
    "\n",
    "from scipy.stats import normaltest\n",
    "k2, p = normaltest(drug) #test for normality\n",
    "print (\"Skew = \", k2)\n",
    "print (\"H0 - field marks come from a normal distribution: \")\n",
    "if p<0.05: \n",
    "    print (\"Reject in favor of H1.\")\n",
    "else:\n",
    "    print (\"Accept.\")\n",
    "\n",
    "plt.hist(drug, bins=5)\n",
    "plt.legend((\"p-value=%.2g\"%p, ))"
   ]
  },
  {
   "cell_type": "markdown",
   "metadata": {},
   "source": [
    "As p-value is 0.53, drug A data is normally distributed"
   ]
  },
  {
   "cell_type": "code",
   "execution_count": 71,
   "metadata": {},
   "outputs": [
    {
     "name": "stdout",
     "output_type": "stream",
     "text": [
      "('placebo',)\n"
     ]
    }
   ],
   "source": [
    "# Read in the records.\n",
    "record = np.recfromcsv(\"data2/placebo-A.csv\") \n",
    "\n",
    "print (record.dtype.names)"
   ]
  },
  {
   "cell_type": "code",
   "execution_count": 72,
   "metadata": {},
   "outputs": [
    {
     "name": "stdout",
     "output_type": "stream",
     "text": [
      "Skew =  1.2202628948918977\n",
      "H0 - field marks come from a normal distribution: \n",
      "Accept.\n"
     ]
    },
    {
     "data": {
      "text/plain": [
       "<matplotlib.legend.Legend at 0x1731d58e508>"
      ]
     },
     "execution_count": 72,
     "metadata": {},
     "output_type": "execute_result"
    },
    {
     "data": {
      "image/png": "[encoded data removed]",
      "text/plain": [
       "<Figure size 432x288 with 1 Axes>"
      ]
     },
     "metadata": {
      "needs_background": "light"
     },
     "output_type": "display_data"
    }
   ],
   "source": [
    "placebo = np.array(record[\"placebo\"], dtype=float)\n",
    "\n",
    "from scipy.stats import normaltest\n",
    "k2, p = normaltest(placebo) #test for normality\n",
    "print (\"Skew = \", k2)\n",
    "print (\"H0 - field marks come from a normal distribution: \")\n",
    "if p<0.05:\n",
    "    print (\"Reject in favor of H1.\")\n",
    "else:\n",
    "    print (\"Accept.\")\n",
    "\n",
    "plt.hist(placebo, bins=5)\n",
    "plt.legend((\"p-value=%.2g\"%p, ))"
   ]
  },
  {
   "cell_type": "markdown",
   "metadata": {},
   "source": [
    "As p-value is 0.54, placebo-A is normally distributed"
   ]
  },
  {
   "cell_type": "code",
   "execution_count": 76,
   "metadata": {},
   "outputs": [
    {
     "name": "stdout",
     "output_type": "stream",
     "text": [
      "38\n",
      "126\n",
      "Mean for  drug    1.048947\n",
      "dtype: float64\n",
      "Mean for  placebo    1.142143\n",
      "dtype: float64\n",
      "Combined mean 1.1205487804878047\n"
     ]
    },
    {
     "data": {
      "text/plain": [
       "Ttest_indResult(statistic=array([-1.74736076]), pvalue=array([0.08686706]))"
      ]
     },
     "execution_count": 76,
     "metadata": {},
     "output_type": "execute_result"
    }
   ],
   "source": [
    "from scipy.stats import ttest_ind, ttest_ind_from_stats\n",
    "\n",
    "combined = np.concatenate((drugA, placeboA))\n",
    "print(len(drugA))\n",
    "print(len(placeboA))\n",
    "print( 'Mean for ',drugA.mean() )\n",
    "print( 'Mean for ',placeboA.mean() )\n",
    "print( 'Combined mean',combined.mean() )\n",
    "\n",
    "# we run the t-test without supposing the variance is the same (more general)\n",
    "ttest_ind(a= drugA,\n",
    "          b= placeboA,\n",
    "          equal_var=False) "
   ]
  },
  {
   "cell_type": "markdown",
   "metadata": {},
   "source": [
    "Therefore, combined mean is 1.12.\n",
    "\n",
    "The t test is array([-1.74]) and p-value is array([0.086])"
   ]
  },
  {
   "cell_type": "markdown",
   "metadata": {},
   "source": [
    "As the p-value is 0.086 or 9% (approx) which is greater than the corresponding significance level of 0.05, H0 is accepted.\n",
    "Therefore, it can be concluded that drug group A and placebo A produce the *same* outcome."
   ]
  },
  {
   "cell_type": "markdown",
   "metadata": {},
   "source": [
    "# Problem Statement 2\n",
    "I have a drug group and a placebo group: drug-B and placebo-B. The mean outcome is lower in the placebo group and I have a theory that may explain this, but I first need to rule out the possibility that the lower outcome is just due to chance."
   ]
  },
  {
   "cell_type": "markdown",
   "metadata": {},
   "source": [
    "#### Formulation of hypothesis\n",
    "\n",
    "Null hypothesis (H0): The Placebo B has lower mean outcome than drug B.\n",
    "\n",
    "Alternative Hypothesis(H1): The Placebo B does not have lower mean outcome than drug B.\n",
    "\n",
    "This is a one-tailed test."
   ]
  },
  {
   "cell_type": "code",
   "execution_count": 47,
   "metadata": {},
   "outputs": [
    {
     "name": "stderr",
     "output_type": "stream",
     "text": [
      "C:\\Users\\prana\\Anaconda3\\lib\\site-packages\\ipykernel_launcher.py:9: FutureWarning: Sorting because non-concatenation axis is not aligned. A future version\n",
      "of pandas will change to not sort by default.\n",
      "\n",
      "To accept the future behavior, pass 'sort=False'.\n",
      "\n",
      "To retain the current behavior and silence the warning, pass 'sort=True'.\n",
      "\n",
      "  if __name__ == '__main__':\n"
     ]
    },
    {
     "data": {
      "text/plain": [
       "array([[<matplotlib.axes._subplots.AxesSubplot object at 0x000001731C1F7D08>,\n",
       "        <matplotlib.axes._subplots.AxesSubplot object at 0x000001731C20DB08>]],\n",
       "      dtype=object)"
      ]
     },
     "execution_count": 47,
     "metadata": {},
     "output_type": "execute_result"
    },
    {
     "data": {
      "image/png": "[encoded data removed]",
      "text/plain": [
       "<Figure size 432x288 with 2 Axes>"
      ]
     },
     "metadata": {
      "needs_background": "light"
     },
     "output_type": "display_data"
    }
   ],
   "source": [
    "import pandas as pd\n",
    "import numpy as np\n",
    "\n",
    "#reading data from the csv files\n",
    "drugB = pd.read_csv(\"data2/drug-B.csv\")\n",
    "placeboB = pd.read_csv(\"data2/placebo-B.csv\")\n",
    "\n",
    "#Plotting histogram for drug and placebo\n",
    "trial_data = pd.concat([drugB, placeboB], ignore_index=True)\n",
    "trial_data.hist()"
   ]
  },
  {
   "cell_type": "markdown",
   "metadata": {},
   "source": [
    "## T-test \n",
    "\n",
    "Level of significance taken is 0.05"
   ]
  },
  {
   "cell_type": "code",
   "execution_count": 49,
   "metadata": {},
   "outputs": [
    {
     "data": {
      "text/plain": [
       "<matplotlib.collections.PolyCollection at 0x1731c2cd748>"
      ]
     },
     "execution_count": 49,
     "metadata": {},
     "output_type": "execute_result"
    },
    {
     "data": {
      "image/png": "[encoded data removed]",
      "text/plain": [
       "<Figure size 432x288 with 1 Axes>"
      ]
     },
     "metadata": {
      "needs_background": "light"
     },
     "output_type": "display_data"
    }
   ],
   "source": [
    "import numpy as np\n",
    "import matplotlib.pyplot as plt\n",
    "from scipy.stats import t\n",
    "\n",
    "n = 100\n",
    "df = n-1\n",
    "x = np.linspace(t.ppf(0.001, df), t.ppf(0.999, df), n)\n",
    "p = t.pdf(x, df)\n",
    "\n",
    "plt.plot(x, p, 'k')\n",
    "plt.fill_between(x, 0, p, interpolate=True,\n",
    "                 where=(x <= t.ppf(0.05, df)))"
   ]
  },
  {
   "cell_type": "code",
   "execution_count": 51,
   "metadata": {},
   "outputs": [
    {
     "name": "stdout",
     "output_type": "stream",
     "text": [
      "t-statistic =  [3.32631411]\n",
      "p-value =  [0.00137986]\n"
     ]
    }
   ],
   "source": [
    "from scipy.stats import ttest_ind #Library for t test\n",
    "t_statistic, p_value = ttest_ind(drugB, placeboB)\n",
    "print (\"t-statistic = \", t_statistic)\n",
    "print (\"p-value = \", p_value)"
   ]
  },
  {
   "cell_type": "markdown",
   "metadata": {},
   "source": [
    "As it is a one-tailed test, the p-value is halved and then conclusion is derived."
   ]
  },
  {
   "cell_type": "code",
   "execution_count": 58,
   "metadata": {},
   "outputs": [
    {
     "name": "stdout",
     "output_type": "stream",
     "text": [
      "p-value =  [0.00068993]\n"
     ]
    }
   ],
   "source": [
    "print (\"p-value = \", p_value/2)"
   ]
  },
  {
   "cell_type": "markdown",
   "metadata": {},
   "source": [
    "#### t statistic is 3.32 and p-value is 0.000689"
   ]
  },
  {
   "cell_type": "markdown",
   "metadata": {},
   "source": [
    "## Test for normality"
   ]
  },
  {
   "cell_type": "markdown",
   "metadata": {},
   "source": [
    "Using  D’Agostino & Pearson combined test to test for normality of the data"
   ]
  },
  {
   "cell_type": "markdown",
   "metadata": {},
   "source": [
    "Formulation of the hypothesis:\n",
    "\n",
    "\n",
    "* $H_0$ : 'Underlying distribution is normal.'\n",
    "* $H_1$ : 'Underlying distribution is not normal.'"
   ]
  },
  {
   "cell_type": "code",
   "execution_count": 61,
   "metadata": {},
   "outputs": [
    {
     "name": "stdout",
     "output_type": "stream",
     "text": [
      "('drug',)\n"
     ]
    }
   ],
   "source": [
    "# Read in the records.\n",
    "record = np.recfromcsv(\"data2/drug-B.csv\") \n",
    "\n",
    "print (record.dtype.names)"
   ]
  },
  {
   "cell_type": "code",
   "execution_count": 62,
   "metadata": {},
   "outputs": [
    {
     "name": "stdout",
     "output_type": "stream",
     "text": [
      "Skew =  20.701784062790804\n",
      "H0 - field marks come from a normal distribution: \n",
      "Reject in favor of H1.\n"
     ]
    },
    {
     "data": {
      "text/plain": [
       "<matplotlib.legend.Legend at 0x1731c45cd08>"
      ]
     },
     "execution_count": 62,
     "metadata": {},
     "output_type": "execute_result"
    },
    {
     "data": {
      "image/png": "[encoded data removed]",
      "text/plain": [
       "<Figure size 432x288 with 1 Axes>"
      ]
     },
     "metadata": {
      "needs_background": "light"
     },
     "output_type": "display_data"
    }
   ],
   "source": [
    "drug = np.array(record[\"drug\"], dtype=float)\n",
    "\n",
    "from scipy.stats import normaltest\n",
    "k2, p = normaltest(drug)\n",
    "print (\"Skew = \", k2)\n",
    "print (\"H0 - field marks come from a normal distribution: \")\n",
    "if p<0.05:\n",
    "    print (\"Reject in favor of H1.\")\n",
    "else:\n",
    "    print (\"Accept.\")\n",
    "\n",
    "plt.hist(drug, bins=5)\n",
    "plt.legend((\"p-value=%.2g\"%p, ))"
   ]
  },
  {
   "cell_type": "markdown",
   "metadata": {},
   "source": [
    "As p-value is 3.2e05, drug B is not normally distributed."
   ]
  },
  {
   "cell_type": "code",
   "execution_count": 63,
   "metadata": {},
   "outputs": [
    {
     "name": "stdout",
     "output_type": "stream",
     "text": [
      "('placebo',)\n"
     ]
    }
   ],
   "source": [
    "# Read in the records.\n",
    "record = np.recfromcsv(\"data2/placebo-B.csv\") \n",
    "\n",
    "print (record.dtype.names)"
   ]
  },
  {
   "cell_type": "code",
   "execution_count": 64,
   "metadata": {},
   "outputs": [
    {
     "name": "stdout",
     "output_type": "stream",
     "text": [
      "Skew =  2.0203883984723765\n",
      "H0 - field marks come from a normal distribution: \n",
      "Accept.\n"
     ]
    },
    {
     "data": {
      "text/plain": [
       "<matplotlib.legend.Legend at 0x1731d488688>"
      ]
     },
     "execution_count": 64,
     "metadata": {},
     "output_type": "execute_result"
    },
    {
     "data": {
      "image/png": "[encoded data removed]",
      "text/plain": [
       "<Figure size 432x288 with 1 Axes>"
      ]
     },
     "metadata": {
      "needs_background": "light"
     },
     "output_type": "display_data"
    }
   ],
   "source": [
    "placebo = np.array(record[\"placebo\"], dtype=float)\n",
    "\n",
    "from scipy.stats import normaltest\n",
    "k2, p = normaltest(placebo) #test for normality\n",
    "print (\"Skew = \", k2)\n",
    "print (\"H0 - field marks come from a normal distribution: \")\n",
    "if p<0.05:\n",
    "    print (\"Reject in favor of H1.\")\n",
    "else:\n",
    "    print (\"Accept.\")\n",
    "\n",
    "plt.hist(placebo, bins=5)\n",
    "plt.legend((\"p-value=%.2g\"%p, ))"
   ]
  },
  {
   "cell_type": "markdown",
   "metadata": {},
   "source": [
    "As p-value is 0.36, Placebo B is normally distributed."
   ]
  },
  {
   "cell_type": "code",
   "execution_count": 65,
   "metadata": {},
   "outputs": [
    {
     "name": "stdout",
     "output_type": "stream",
     "text": [
      "Statistics=512.500, p=0.022\n",
      "Different distribution (reject H0)\n"
     ]
    }
   ],
   "source": [
    "# Mann-Whitney U test\n",
    "from numpy.random import seed\n",
    "from numpy.random import randn\n",
    "from scipy.stats import mannwhitneyu\n",
    "\n",
    "# seed the random number generator\n",
    "seed(1)\n",
    "# compare samples\n",
    "stat, p = mannwhitneyu(drugB, placeboB)\n",
    "print('Statistics=%.3f, p=%.3f' % (stat, p))\n",
    "# interpret\n",
    "alpha = 0.05\n",
    "if p > alpha:\n",
    "    print('Same distribution (fail to reject H0)')\n",
    "else:\n",
    "    print('Different distribution (reject H0)')"
   ]
  },
  {
   "cell_type": "markdown",
   "metadata": {},
   "source": [
    "As p-value is 0.022 or 3% (approx) we rejected null hypothesis at 5% level of significance as it is less than 0.05"
   ]
  }
 ],
 "metadata": {
  "kernelspec": {
   "display_name": "Python 3",
   "language": "python",
   "name": "python3"
  },
  "language_info": {
   "codemirror_mode": {
    "name": "ipython",
    "version": 3
   },
   "file_extension": ".py",
   "mimetype": "text/x-python",
   "name": "python",
   "nbconvert_exporter": "python",
   "pygments_lexer": "ipython3",
   "version": "3.7.4"
  }
 },
 "nbformat": 4,
 "nbformat_minor": 2
}
